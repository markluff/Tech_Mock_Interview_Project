{
 "cells": [
  {
   "cell_type": "markdown",
   "id": "industrial-explosion",
   "metadata": {},
   "source": [
    "# DS Technical Mock Interview"
   ]
  },
  {
   "cell_type": "markdown",
   "id": "00dc726d",
   "metadata": {},
   "source": [
    "In this project I will show how to build a simple Linear Regression model from data about used car prices from 2017. I will clean pieces of the data and demonstrate a simple feature engineering task. "
   ]
  },
  {
   "cell_type": "code",
   "execution_count": 1,
   "id": "soviet-revelation",
   "metadata": {},
   "outputs": [],
   "source": [
    "from sklearn.linear_model import LinearRegression\n",
    "from sklearn.linear_model import LogisticRegression\n",
    "from sklearn import tree\n",
    "from sklearn.model_selection import train_test_split \n",
    "from sklearn.metrics import mean_squared_error, r2_score, confusion_matrix\n",
    "from sklearn.preprocessing import StandardScaler\n",
    "import matplotlib.pyplot as plt\n",
    "%matplotlib inline\n",
    "import seaborn as sns\n",
    "import pandas as pd\n",
    "import numpy as np"
   ]
  },
  {
   "cell_type": "markdown",
   "id": "through-machinery",
   "metadata": {},
   "source": [
    "Data is available here on Kaggle: https://www.kaggle.com/brentpafford/true-car-listings-2017-project?select=true_car_project_full.csv"
   ]
  },
  {
   "cell_type": "code",
   "execution_count": 2,
   "id": "armed-religion",
   "metadata": {},
   "outputs": [
    {
     "data": {
      "text/html": [
       "<div>\n",
       "<style scoped>\n",
       "    .dataframe tbody tr th:only-of-type {\n",
       "        vertical-align: middle;\n",
       "    }\n",
       "\n",
       "    .dataframe tbody tr th {\n",
       "        vertical-align: top;\n",
       "    }\n",
       "\n",
       "    .dataframe thead th {\n",
       "        text-align: right;\n",
       "    }\n",
       "</style>\n",
       "<table border=\"1\" class=\"dataframe\">\n",
       "  <thead>\n",
       "    <tr style=\"text-align: right;\">\n",
       "      <th></th>\n",
       "      <th>Id</th>\n",
       "      <th>Price</th>\n",
       "      <th>Year</th>\n",
       "      <th>Mileage</th>\n",
       "      <th>City</th>\n",
       "      <th>State</th>\n",
       "      <th>City State</th>\n",
       "      <th>Vin</th>\n",
       "      <th>Make</th>\n",
       "      <th>Model</th>\n",
       "      <th>Region</th>\n",
       "    </tr>\n",
       "  </thead>\n",
       "  <tbody>\n",
       "    <tr>\n",
       "      <th>0</th>\n",
       "      <td>1</td>\n",
       "      <td>16472</td>\n",
       "      <td>2015</td>\n",
       "      <td>18681</td>\n",
       "      <td>Jefferson City</td>\n",
       "      <td>MO</td>\n",
       "      <td>Jefferson City MO</td>\n",
       "      <td>KL4CJBSBXFB267643</td>\n",
       "      <td>Buick</td>\n",
       "      <td>EncoreConvenience</td>\n",
       "      <td>Midwest</td>\n",
       "    </tr>\n",
       "    <tr>\n",
       "      <th>1</th>\n",
       "      <td>2</td>\n",
       "      <td>15749</td>\n",
       "      <td>2015</td>\n",
       "      <td>27592</td>\n",
       "      <td>Highland</td>\n",
       "      <td>IN</td>\n",
       "      <td>Highland IN</td>\n",
       "      <td>KL4CJASB5FB245057</td>\n",
       "      <td>Buick</td>\n",
       "      <td>EncoreFWD</td>\n",
       "      <td>Midwest</td>\n",
       "    </tr>\n",
       "    <tr>\n",
       "      <th>2</th>\n",
       "      <td>3</td>\n",
       "      <td>16998</td>\n",
       "      <td>2015</td>\n",
       "      <td>13650</td>\n",
       "      <td>Boone</td>\n",
       "      <td>NC</td>\n",
       "      <td>Boone NC</td>\n",
       "      <td>KL4CJCSB0FB264921</td>\n",
       "      <td>Buick</td>\n",
       "      <td>EncoreLeather</td>\n",
       "      <td>Southeast</td>\n",
       "    </tr>\n",
       "    <tr>\n",
       "      <th>3</th>\n",
       "      <td>4</td>\n",
       "      <td>15777</td>\n",
       "      <td>2015</td>\n",
       "      <td>25195</td>\n",
       "      <td>New Orleans</td>\n",
       "      <td>LA</td>\n",
       "      <td>New Orleans LA</td>\n",
       "      <td>KL4CJASB4FB217542</td>\n",
       "      <td>Buick</td>\n",
       "      <td>EncoreFWD</td>\n",
       "      <td>Southeast</td>\n",
       "    </tr>\n",
       "    <tr>\n",
       "      <th>4</th>\n",
       "      <td>5</td>\n",
       "      <td>16784</td>\n",
       "      <td>2015</td>\n",
       "      <td>22800</td>\n",
       "      <td>Las Vegas</td>\n",
       "      <td>NV</td>\n",
       "      <td>Las Vegas NV</td>\n",
       "      <td>KL4CJBSB3FB166881</td>\n",
       "      <td>Buick</td>\n",
       "      <td>EncoreConvenience</td>\n",
       "      <td>Rockies</td>\n",
       "    </tr>\n",
       "  </tbody>\n",
       "</table>\n",
       "</div>"
      ],
      "text/plain": [
       "   Id  Price  Year  Mileage            City State         City State  \\\n",
       "0   1  16472  2015    18681  Jefferson City    MO  Jefferson City MO   \n",
       "1   2  15749  2015    27592        Highland    IN        Highland IN   \n",
       "2   3  16998  2015    13650           Boone    NC           Boone NC   \n",
       "3   4  15777  2015    25195     New Orleans    LA     New Orleans LA   \n",
       "4   5  16784  2015    22800       Las Vegas    NV       Las Vegas NV   \n",
       "\n",
       "                 Vin   Make              Model     Region  \n",
       "0  KL4CJBSBXFB267643  Buick  EncoreConvenience    Midwest  \n",
       "1  KL4CJASB5FB245057  Buick          EncoreFWD    Midwest  \n",
       "2  KL4CJCSB0FB264921  Buick      EncoreLeather  Southeast  \n",
       "3  KL4CJASB4FB217542  Buick          EncoreFWD  Southeast  \n",
       "4  KL4CJBSB3FB166881  Buick  EncoreConvenience    Rockies  "
      ]
     },
     "execution_count": 2,
     "metadata": {},
     "output_type": "execute_result"
    }
   ],
   "source": [
    "df = pd.read_csv('true_car_project_full.csv')\n",
    "df.head()"
   ]
  },
  {
   "cell_type": "code",
   "execution_count": 3,
   "id": "handed-arbitration",
   "metadata": {},
   "outputs": [
    {
     "data": {
      "text/plain": [
       "(1048575, 11)"
      ]
     },
     "execution_count": 3,
     "metadata": {},
     "output_type": "execute_result"
    }
   ],
   "source": [
    "df.shape"
   ]
  },
  {
   "cell_type": "markdown",
   "id": "separate-lunch",
   "metadata": {},
   "source": [
    "## Preprocessing"
   ]
  },
  {
   "cell_type": "code",
   "execution_count": 4,
   "id": "mathematical-california",
   "metadata": {},
   "outputs": [
    {
     "name": "stdout",
     "output_type": "stream",
     "text": [
      "<class 'pandas.core.frame.DataFrame'>\n",
      "RangeIndex: 1048575 entries, 0 to 1048574\n",
      "Data columns (total 11 columns):\n",
      " #   Column      Non-Null Count    Dtype \n",
      "---  ------      --------------    ----- \n",
      " 0   Id          1048575 non-null  int64 \n",
      " 1   Price       1048575 non-null  int64 \n",
      " 2   Year        1048575 non-null  int64 \n",
      " 3   Mileage     1048575 non-null  int64 \n",
      " 4   City        1048575 non-null  object\n",
      " 5   State       1048575 non-null  object\n",
      " 6   City State  1048575 non-null  object\n",
      " 7   Vin         1048575 non-null  object\n",
      " 8   Make        1048575 non-null  object\n",
      " 9   Model       1048575 non-null  object\n",
      " 10  Region      1048575 non-null  object\n",
      "dtypes: int64(4), object(7)\n",
      "memory usage: 88.0+ MB\n"
     ]
    }
   ],
   "source": [
    "df.info()"
   ]
  },
  {
   "cell_type": "markdown",
   "id": "retired-korean",
   "metadata": {},
   "source": [
    "Create a new column that is the mixture of make and model with an underscore between them. Call this new column \"Make_Model\""
   ]
  },
  {
   "cell_type": "code",
   "execution_count": 5,
   "id": "mental-eugene",
   "metadata": {},
   "outputs": [
    {
     "data": {
      "text/html": [
       "<div>\n",
       "<style scoped>\n",
       "    .dataframe tbody tr th:only-of-type {\n",
       "        vertical-align: middle;\n",
       "    }\n",
       "\n",
       "    .dataframe tbody tr th {\n",
       "        vertical-align: top;\n",
       "    }\n",
       "\n",
       "    .dataframe thead th {\n",
       "        text-align: right;\n",
       "    }\n",
       "</style>\n",
       "<table border=\"1\" class=\"dataframe\">\n",
       "  <thead>\n",
       "    <tr style=\"text-align: right;\">\n",
       "      <th></th>\n",
       "      <th>Id</th>\n",
       "      <th>Price</th>\n",
       "      <th>Year</th>\n",
       "      <th>Mileage</th>\n",
       "      <th>City</th>\n",
       "      <th>State</th>\n",
       "      <th>City State</th>\n",
       "      <th>Vin</th>\n",
       "      <th>Make</th>\n",
       "      <th>Model</th>\n",
       "      <th>Region</th>\n",
       "      <th>Make_Model</th>\n",
       "    </tr>\n",
       "  </thead>\n",
       "  <tbody>\n",
       "    <tr>\n",
       "      <th>0</th>\n",
       "      <td>1</td>\n",
       "      <td>16472</td>\n",
       "      <td>2015</td>\n",
       "      <td>18681</td>\n",
       "      <td>Jefferson City</td>\n",
       "      <td>MO</td>\n",
       "      <td>Jefferson City MO</td>\n",
       "      <td>KL4CJBSBXFB267643</td>\n",
       "      <td>Buick</td>\n",
       "      <td>EncoreConvenience</td>\n",
       "      <td>Midwest</td>\n",
       "      <td>Buick_EncoreConvenience</td>\n",
       "    </tr>\n",
       "    <tr>\n",
       "      <th>1</th>\n",
       "      <td>2</td>\n",
       "      <td>15749</td>\n",
       "      <td>2015</td>\n",
       "      <td>27592</td>\n",
       "      <td>Highland</td>\n",
       "      <td>IN</td>\n",
       "      <td>Highland IN</td>\n",
       "      <td>KL4CJASB5FB245057</td>\n",
       "      <td>Buick</td>\n",
       "      <td>EncoreFWD</td>\n",
       "      <td>Midwest</td>\n",
       "      <td>Buick_EncoreFWD</td>\n",
       "    </tr>\n",
       "    <tr>\n",
       "      <th>2</th>\n",
       "      <td>3</td>\n",
       "      <td>16998</td>\n",
       "      <td>2015</td>\n",
       "      <td>13650</td>\n",
       "      <td>Boone</td>\n",
       "      <td>NC</td>\n",
       "      <td>Boone NC</td>\n",
       "      <td>KL4CJCSB0FB264921</td>\n",
       "      <td>Buick</td>\n",
       "      <td>EncoreLeather</td>\n",
       "      <td>Southeast</td>\n",
       "      <td>Buick_EncoreLeather</td>\n",
       "    </tr>\n",
       "    <tr>\n",
       "      <th>3</th>\n",
       "      <td>4</td>\n",
       "      <td>15777</td>\n",
       "      <td>2015</td>\n",
       "      <td>25195</td>\n",
       "      <td>New Orleans</td>\n",
       "      <td>LA</td>\n",
       "      <td>New Orleans LA</td>\n",
       "      <td>KL4CJASB4FB217542</td>\n",
       "      <td>Buick</td>\n",
       "      <td>EncoreFWD</td>\n",
       "      <td>Southeast</td>\n",
       "      <td>Buick_EncoreFWD</td>\n",
       "    </tr>\n",
       "    <tr>\n",
       "      <th>4</th>\n",
       "      <td>5</td>\n",
       "      <td>16784</td>\n",
       "      <td>2015</td>\n",
       "      <td>22800</td>\n",
       "      <td>Las Vegas</td>\n",
       "      <td>NV</td>\n",
       "      <td>Las Vegas NV</td>\n",
       "      <td>KL4CJBSB3FB166881</td>\n",
       "      <td>Buick</td>\n",
       "      <td>EncoreConvenience</td>\n",
       "      <td>Rockies</td>\n",
       "      <td>Buick_EncoreConvenience</td>\n",
       "    </tr>\n",
       "  </tbody>\n",
       "</table>\n",
       "</div>"
      ],
      "text/plain": [
       "   Id  Price  Year  Mileage            City State         City State  \\\n",
       "0   1  16472  2015    18681  Jefferson City    MO  Jefferson City MO   \n",
       "1   2  15749  2015    27592        Highland    IN        Highland IN   \n",
       "2   3  16998  2015    13650           Boone    NC           Boone NC   \n",
       "3   4  15777  2015    25195     New Orleans    LA     New Orleans LA   \n",
       "4   5  16784  2015    22800       Las Vegas    NV       Las Vegas NV   \n",
       "\n",
       "                 Vin   Make              Model     Region  \\\n",
       "0  KL4CJBSBXFB267643  Buick  EncoreConvenience    Midwest   \n",
       "1  KL4CJASB5FB245057  Buick          EncoreFWD    Midwest   \n",
       "2  KL4CJCSB0FB264921  Buick      EncoreLeather  Southeast   \n",
       "3  KL4CJASB4FB217542  Buick          EncoreFWD  Southeast   \n",
       "4  KL4CJBSB3FB166881  Buick  EncoreConvenience    Rockies   \n",
       "\n",
       "                Make_Model  \n",
       "0  Buick_EncoreConvenience  \n",
       "1          Buick_EncoreFWD  \n",
       "2      Buick_EncoreLeather  \n",
       "3          Buick_EncoreFWD  \n",
       "4  Buick_EncoreConvenience  "
      ]
     },
     "execution_count": 5,
     "metadata": {},
     "output_type": "execute_result"
    }
   ],
   "source": [
    "# simple combining of columns\n",
    "df['Make_Model'] = df['Make'] + '_' + df['Model']\n",
    "\n",
    "# Show that the change is correct\n",
    "df.head()"
   ]
  },
  {
   "cell_type": "markdown",
   "id": "raised-courage",
   "metadata": {},
   "source": [
    "Drop the City, State, City State, Vin, Make, and Model columns"
   ]
  },
  {
   "cell_type": "code",
   "execution_count": 6,
   "id": "intelligent-magic",
   "metadata": {},
   "outputs": [
    {
     "data": {
      "text/html": [
       "<div>\n",
       "<style scoped>\n",
       "    .dataframe tbody tr th:only-of-type {\n",
       "        vertical-align: middle;\n",
       "    }\n",
       "\n",
       "    .dataframe tbody tr th {\n",
       "        vertical-align: top;\n",
       "    }\n",
       "\n",
       "    .dataframe thead th {\n",
       "        text-align: right;\n",
       "    }\n",
       "</style>\n",
       "<table border=\"1\" class=\"dataframe\">\n",
       "  <thead>\n",
       "    <tr style=\"text-align: right;\">\n",
       "      <th></th>\n",
       "      <th>Id</th>\n",
       "      <th>Price</th>\n",
       "      <th>Year</th>\n",
       "      <th>Mileage</th>\n",
       "      <th>Region</th>\n",
       "      <th>Make_Model</th>\n",
       "    </tr>\n",
       "  </thead>\n",
       "  <tbody>\n",
       "    <tr>\n",
       "      <th>0</th>\n",
       "      <td>1</td>\n",
       "      <td>16472</td>\n",
       "      <td>2015</td>\n",
       "      <td>18681</td>\n",
       "      <td>Midwest</td>\n",
       "      <td>Buick_EncoreConvenience</td>\n",
       "    </tr>\n",
       "    <tr>\n",
       "      <th>1</th>\n",
       "      <td>2</td>\n",
       "      <td>15749</td>\n",
       "      <td>2015</td>\n",
       "      <td>27592</td>\n",
       "      <td>Midwest</td>\n",
       "      <td>Buick_EncoreFWD</td>\n",
       "    </tr>\n",
       "    <tr>\n",
       "      <th>2</th>\n",
       "      <td>3</td>\n",
       "      <td>16998</td>\n",
       "      <td>2015</td>\n",
       "      <td>13650</td>\n",
       "      <td>Southeast</td>\n",
       "      <td>Buick_EncoreLeather</td>\n",
       "    </tr>\n",
       "    <tr>\n",
       "      <th>3</th>\n",
       "      <td>4</td>\n",
       "      <td>15777</td>\n",
       "      <td>2015</td>\n",
       "      <td>25195</td>\n",
       "      <td>Southeast</td>\n",
       "      <td>Buick_EncoreFWD</td>\n",
       "    </tr>\n",
       "    <tr>\n",
       "      <th>4</th>\n",
       "      <td>5</td>\n",
       "      <td>16784</td>\n",
       "      <td>2015</td>\n",
       "      <td>22800</td>\n",
       "      <td>Rockies</td>\n",
       "      <td>Buick_EncoreConvenience</td>\n",
       "    </tr>\n",
       "  </tbody>\n",
       "</table>\n",
       "</div>"
      ],
      "text/plain": [
       "   Id  Price  Year  Mileage     Region               Make_Model\n",
       "0   1  16472  2015    18681    Midwest  Buick_EncoreConvenience\n",
       "1   2  15749  2015    27592    Midwest          Buick_EncoreFWD\n",
       "2   3  16998  2015    13650  Southeast      Buick_EncoreLeather\n",
       "3   4  15777  2015    25195  Southeast          Buick_EncoreFWD\n",
       "4   5  16784  2015    22800    Rockies  Buick_EncoreConvenience"
      ]
     },
     "execution_count": 6,
     "metadata": {},
     "output_type": "execute_result"
    }
   ],
   "source": [
    "# remove the unnecessary columns\n",
    "df = df.drop(columns={'City', 'State', 'City State', 'Vin', 'Make', 'Model'})\n",
    "\n",
    "# Check to make sure that the columns that needed to be dropped are gone\n",
    "df.head()"
   ]
  },
  {
   "cell_type": "code",
   "execution_count": 7,
   "id": "published-suspect",
   "metadata": {},
   "outputs": [
    {
     "data": {
      "text/plain": [
       "Id            0\n",
       "Price         0\n",
       "Year          0\n",
       "Mileage       0\n",
       "Region        0\n",
       "Make_Model    0\n",
       "dtype: int64"
      ]
     },
     "execution_count": 7,
     "metadata": {},
     "output_type": "execute_result"
    }
   ],
   "source": [
    "#Check for NAs\n",
    "df.isna().sum()"
   ]
  },
  {
   "cell_type": "code",
   "execution_count": 8,
   "id": "institutional-custom",
   "metadata": {},
   "outputs": [
    {
     "data": {
      "text/html": [
       "<div>\n",
       "<style scoped>\n",
       "    .dataframe tbody tr th:only-of-type {\n",
       "        vertical-align: middle;\n",
       "    }\n",
       "\n",
       "    .dataframe tbody tr th {\n",
       "        vertical-align: top;\n",
       "    }\n",
       "\n",
       "    .dataframe thead th {\n",
       "        text-align: right;\n",
       "    }\n",
       "</style>\n",
       "<table border=\"1\" class=\"dataframe\">\n",
       "  <thead>\n",
       "    <tr style=\"text-align: right;\">\n",
       "      <th></th>\n",
       "      <th>Id</th>\n",
       "      <th>Price</th>\n",
       "      <th>Year</th>\n",
       "      <th>Mileage</th>\n",
       "      <th>Region</th>\n",
       "      <th>Make_Model</th>\n",
       "    </tr>\n",
       "  </thead>\n",
       "  <tbody>\n",
       "  </tbody>\n",
       "</table>\n",
       "</div>"
      ],
      "text/plain": [
       "Empty DataFrame\n",
       "Columns: [Id, Price, Year, Mileage, Region, Make_Model]\n",
       "Index: []"
      ]
     },
     "execution_count": 8,
     "metadata": {},
     "output_type": "execute_result"
    }
   ],
   "source": [
    "#Check for duplicatess\n",
    "duplicate = df[df.duplicated()]\n",
    "duplicate"
   ]
  },
  {
   "cell_type": "markdown",
   "id": "superb-object",
   "metadata": {},
   "source": [
    "## ML"
   ]
  },
  {
   "cell_type": "markdown",
   "id": "surprised-annex",
   "metadata": {},
   "source": [
    "Here we will make a small linear regression model to predict the price of a used car. There are a lot of different Make_Model combinations in the data, so we will be using only the 30 most frequent of these. "
   ]
  },
  {
   "cell_type": "code",
   "execution_count": 9,
   "id": "enhanced-affiliation",
   "metadata": {},
   "outputs": [],
   "source": [
    "#Get a list of the 30 car make_models that were most frequent\n",
    "top_30 = [name for name in df.Make_Model.value_counts().head(30).index]"
   ]
  },
  {
   "cell_type": "markdown",
   "id": "arranged-world",
   "metadata": {},
   "source": [
    "Here we will create a new version of the dataframe. Take only the rows where the Make_Model is in top_30 "
   ]
  },
  {
   "cell_type": "code",
   "execution_count": 10,
   "id": "solar-cigarette",
   "metadata": {},
   "outputs": [],
   "source": [
    "df = df.loc[df[\"Make_Model\"].isin(top_30), :]"
   ]
  },
  {
   "cell_type": "markdown",
   "id": "acceptable-employment",
   "metadata": {},
   "source": [
    "Get dummy variables for the categorical variables."
   ]
  },
  {
   "cell_type": "code",
   "execution_count": 11,
   "id": "f220ce2e",
   "metadata": {},
   "outputs": [
    {
     "name": "stdout",
     "output_type": "stream",
     "text": [
      "<class 'pandas.core.frame.DataFrame'>\n",
      "Index: 283292 entries, 681 to 1048570\n",
      "Data columns (total 6 columns):\n",
      " #   Column      Non-Null Count   Dtype \n",
      "---  ------      --------------   ----- \n",
      " 0   Id          283292 non-null  int64 \n",
      " 1   Price       283292 non-null  int64 \n",
      " 2   Year        283292 non-null  int64 \n",
      " 3   Mileage     283292 non-null  int64 \n",
      " 4   Region      283292 non-null  object\n",
      " 5   Make_Model  283292 non-null  object\n",
      "dtypes: int64(4), object(2)\n",
      "memory usage: 15.1+ MB\n"
     ]
    }
   ],
   "source": [
    "df.info()"
   ]
  },
  {
   "cell_type": "code",
   "execution_count": 13,
   "id": "religious-grace",
   "metadata": {},
   "outputs": [],
   "source": [
    "# Binary encoding using Pandas (multiple columns)\n",
    "df_binary_encoded = pd.get_dummies(df, columns=['Region', 'Make_Model'], drop_first=True, dtype='int')"
   ]
  },
  {
   "cell_type": "code",
   "execution_count": 15,
   "id": "15e971bc",
   "metadata": {},
   "outputs": [
    {
     "data": {
      "text/html": [
       "<div>\n",
       "<style scoped>\n",
       "    .dataframe tbody tr th:only-of-type {\n",
       "        vertical-align: middle;\n",
       "    }\n",
       "\n",
       "    .dataframe tbody tr th {\n",
       "        vertical-align: top;\n",
       "    }\n",
       "\n",
       "    .dataframe thead th {\n",
       "        text-align: right;\n",
       "    }\n",
       "</style>\n",
       "<table border=\"1\" class=\"dataframe\">\n",
       "  <thead>\n",
       "    <tr style=\"text-align: right;\">\n",
       "      <th></th>\n",
       "      <th>Id</th>\n",
       "      <th>Price</th>\n",
       "      <th>Year</th>\n",
       "      <th>Mileage</th>\n",
       "      <th>Region_Northeast</th>\n",
       "      <th>Region_Pacific</th>\n",
       "      <th>Region_Rockies</th>\n",
       "      <th>Region_Southeast</th>\n",
       "      <th>Region_Southwest</th>\n",
       "      <th>Make_Model_BMW_5</th>\n",
       "      <th>...</th>\n",
       "      <th>Make_Model_Hyundai_Santa</th>\n",
       "      <th>Make_Model_Hyundai_Sonata2.4L</th>\n",
       "      <th>Make_Model_Jeep_Grand</th>\n",
       "      <th>Make_Model_Jeep_Wrangler</th>\n",
       "      <th>Make_Model_Kia_OptimaLX</th>\n",
       "      <th>Make_Model_Kia_SorentoLX</th>\n",
       "      <th>Make_Model_Land_Rover</th>\n",
       "      <th>Make_Model_Lexus_RX</th>\n",
       "      <th>Make_Model_MINI_Cooper</th>\n",
       "      <th>Make_Model_Nissan_Altima2.5</th>\n",
       "    </tr>\n",
       "  </thead>\n",
       "  <tbody>\n",
       "    <tr>\n",
       "      <th>681</th>\n",
       "      <td>682</td>\n",
       "      <td>8989</td>\n",
       "      <td>2009</td>\n",
       "      <td>70509</td>\n",
       "      <td>0</td>\n",
       "      <td>0</td>\n",
       "      <td>0</td>\n",
       "      <td>0</td>\n",
       "      <td>1</td>\n",
       "      <td>0</td>\n",
       "      <td>...</td>\n",
       "      <td>0</td>\n",
       "      <td>0</td>\n",
       "      <td>0</td>\n",
       "      <td>0</td>\n",
       "      <td>0</td>\n",
       "      <td>0</td>\n",
       "      <td>0</td>\n",
       "      <td>0</td>\n",
       "      <td>0</td>\n",
       "      <td>0</td>\n",
       "    </tr>\n",
       "    <tr>\n",
       "      <th>682</th>\n",
       "      <td>683</td>\n",
       "      <td>17750</td>\n",
       "      <td>2014</td>\n",
       "      <td>33026</td>\n",
       "      <td>0</td>\n",
       "      <td>0</td>\n",
       "      <td>0</td>\n",
       "      <td>0</td>\n",
       "      <td>1</td>\n",
       "      <td>0</td>\n",
       "      <td>...</td>\n",
       "      <td>0</td>\n",
       "      <td>0</td>\n",
       "      <td>0</td>\n",
       "      <td>0</td>\n",
       "      <td>0</td>\n",
       "      <td>0</td>\n",
       "      <td>0</td>\n",
       "      <td>0</td>\n",
       "      <td>0</td>\n",
       "      <td>0</td>\n",
       "    </tr>\n",
       "    <tr>\n",
       "      <th>683</th>\n",
       "      <td>684</td>\n",
       "      <td>18000</td>\n",
       "      <td>2014</td>\n",
       "      <td>49669</td>\n",
       "      <td>0</td>\n",
       "      <td>0</td>\n",
       "      <td>0</td>\n",
       "      <td>1</td>\n",
       "      <td>0</td>\n",
       "      <td>0</td>\n",
       "      <td>...</td>\n",
       "      <td>0</td>\n",
       "      <td>0</td>\n",
       "      <td>0</td>\n",
       "      <td>0</td>\n",
       "      <td>0</td>\n",
       "      <td>0</td>\n",
       "      <td>0</td>\n",
       "      <td>0</td>\n",
       "      <td>0</td>\n",
       "      <td>0</td>\n",
       "    </tr>\n",
       "    <tr>\n",
       "      <th>684</th>\n",
       "      <td>685</td>\n",
       "      <td>16888</td>\n",
       "      <td>2014</td>\n",
       "      <td>49877</td>\n",
       "      <td>0</td>\n",
       "      <td>0</td>\n",
       "      <td>0</td>\n",
       "      <td>1</td>\n",
       "      <td>0</td>\n",
       "      <td>0</td>\n",
       "      <td>...</td>\n",
       "      <td>0</td>\n",
       "      <td>0</td>\n",
       "      <td>0</td>\n",
       "      <td>0</td>\n",
       "      <td>0</td>\n",
       "      <td>0</td>\n",
       "      <td>0</td>\n",
       "      <td>0</td>\n",
       "      <td>0</td>\n",
       "      <td>0</td>\n",
       "    </tr>\n",
       "    <tr>\n",
       "      <th>686</th>\n",
       "      <td>687</td>\n",
       "      <td>8450</td>\n",
       "      <td>2008</td>\n",
       "      <td>96236</td>\n",
       "      <td>0</td>\n",
       "      <td>0</td>\n",
       "      <td>0</td>\n",
       "      <td>0</td>\n",
       "      <td>0</td>\n",
       "      <td>0</td>\n",
       "      <td>...</td>\n",
       "      <td>0</td>\n",
       "      <td>0</td>\n",
       "      <td>0</td>\n",
       "      <td>0</td>\n",
       "      <td>0</td>\n",
       "      <td>0</td>\n",
       "      <td>0</td>\n",
       "      <td>0</td>\n",
       "      <td>0</td>\n",
       "      <td>0</td>\n",
       "    </tr>\n",
       "  </tbody>\n",
       "</table>\n",
       "<p>5 rows × 38 columns</p>\n",
       "</div>"
      ],
      "text/plain": [
       "      Id  Price  Year  Mileage  Region_Northeast  Region_Pacific  \\\n",
       "681  682   8989  2009    70509                 0               0   \n",
       "682  683  17750  2014    33026                 0               0   \n",
       "683  684  18000  2014    49669                 0               0   \n",
       "684  685  16888  2014    49877                 0               0   \n",
       "686  687   8450  2008    96236                 0               0   \n",
       "\n",
       "     Region_Rockies  Region_Southeast  Region_Southwest  Make_Model_BMW_5  \\\n",
       "681               0                 0                 1                 0   \n",
       "682               0                 0                 1                 0   \n",
       "683               0                 1                 0                 0   \n",
       "684               0                 1                 0                 0   \n",
       "686               0                 0                 0                 0   \n",
       "\n",
       "     ...  Make_Model_Hyundai_Santa  Make_Model_Hyundai_Sonata2.4L  \\\n",
       "681  ...                         0                              0   \n",
       "682  ...                         0                              0   \n",
       "683  ...                         0                              0   \n",
       "684  ...                         0                              0   \n",
       "686  ...                         0                              0   \n",
       "\n",
       "     Make_Model_Jeep_Grand  Make_Model_Jeep_Wrangler  Make_Model_Kia_OptimaLX  \\\n",
       "681                      0                         0                        0   \n",
       "682                      0                         0                        0   \n",
       "683                      0                         0                        0   \n",
       "684                      0                         0                        0   \n",
       "686                      0                         0                        0   \n",
       "\n",
       "     Make_Model_Kia_SorentoLX  Make_Model_Land_Rover  Make_Model_Lexus_RX  \\\n",
       "681                         0                      0                    0   \n",
       "682                         0                      0                    0   \n",
       "683                         0                      0                    0   \n",
       "684                         0                      0                    0   \n",
       "686                         0                      0                    0   \n",
       "\n",
       "     Make_Model_MINI_Cooper  Make_Model_Nissan_Altima2.5  \n",
       "681                       0                            0  \n",
       "682                       0                            0  \n",
       "683                       0                            0  \n",
       "684                       0                            0  \n",
       "686                       0                            0  \n",
       "\n",
       "[5 rows x 38 columns]"
      ]
     },
     "execution_count": 15,
     "metadata": {},
     "output_type": "execute_result"
    }
   ],
   "source": [
    "# look at the data to ensure that the One-Hot encoding is right\n",
    "df_binary_encoded.head()"
   ]
  },
  {
   "cell_type": "markdown",
   "id": "informative-artist",
   "metadata": {},
   "source": [
    "Please explain what the following code chunk does. "
   ]
  },
  {
   "cell_type": "code",
   "execution_count": 16,
   "id": "ideal-penny",
   "metadata": {},
   "outputs": [],
   "source": [
    "# Creating the scaler instance\n",
    "data_scaler = StandardScaler()\n",
    "# Fitting the scaler\n",
    "data_scaler.fit(df_binary_encoded)\n",
    "# Transforming the data\n",
    "df_data_scaled = data_scaler.transform(df_binary_encoded)"
   ]
  },
  {
   "cell_type": "markdown",
   "id": "b8b50fd0",
   "metadata": {},
   "source": [
    "The above cell scales the data to make the mean of each column 0 and the standard deviation to 1. The way it works is by subracting the mean from the original value then dividing that by the standard deviation of the column. When done to all the columns this can improve model performance by ensuring that all features contribute to the model equally. This is important because if some features have very large numbers they can dominate the machine learning algorithm and fail to capture the true relationships between features and target."
   ]
  },
  {
   "cell_type": "code",
   "execution_count": 17,
   "id": "guided-thickness",
   "metadata": {},
   "outputs": [],
   "source": [
    "X = df_binary_encoded.iloc[:, 2:]\n",
    "y = df_binary_encoded.iloc[:, 1]"
   ]
  },
  {
   "cell_type": "markdown",
   "id": "sealed-hobby",
   "metadata": {},
   "source": [
    "Do a train/test split, with 20% test data."
   ]
  },
  {
   "cell_type": "code",
   "execution_count": 18,
   "id": "fleet-american",
   "metadata": {},
   "outputs": [],
   "source": [
    "#Train test split\n",
    "X_train, X_test, y_train, y_test = train_test_split(X, y, test_size=.2, random_state=12345)\n"
   ]
  },
  {
   "cell_type": "markdown",
   "id": "brutal-vacation",
   "metadata": {},
   "source": [
    "Train a linear regression model with the data and get predictions."
   ]
  },
  {
   "cell_type": "code",
   "execution_count": 20,
   "id": "altered-tonight",
   "metadata": {},
   "outputs": [],
   "source": [
    "# Instantiate linear regression model\n",
    "model = LinearRegression()\n",
    "\n",
    "# Fit the model\n",
    "model.fit(X_train, y_train)\n",
    "\n",
    "#Get predictions \n",
    "y_pred = model.predict(X_test)"
   ]
  },
  {
   "cell_type": "code",
   "execution_count": 21,
   "id": "monthly-wilderness",
   "metadata": {},
   "outputs": [
    {
     "data": {
      "text/plain": [
       "32717205.841555245"
      ]
     },
     "execution_count": 21,
     "metadata": {},
     "output_type": "execute_result"
    }
   ],
   "source": [
    "mean_squared_error(y_pred, y_test)"
   ]
  },
  {
   "cell_type": "code",
   "execution_count": 22,
   "id": "complete-wallet",
   "metadata": {},
   "outputs": [
    {
     "data": {
      "text/plain": [
       "5719.895614568088"
      ]
     },
     "execution_count": 22,
     "metadata": {},
     "output_type": "execute_result"
    }
   ],
   "source": [
    "import math\n",
    "math.sqrt(mean_squared_error(y_pred, y_test))"
   ]
  },
  {
   "cell_type": "markdown",
   "id": "related-roller",
   "metadata": {},
   "source": [
    "Please describe what MSE is. Also please interpret the sqrt of the MSE."
   ]
  },
  {
   "cell_type": "markdown",
   "id": "hearing-error",
   "metadata": {},
   "source": [
    "The MSE - Mean Squared Error is the sqauared average error distance from the regression line. This shows the difference between the predicted values and the actual values. \n",
    "\n",
    "We take the square root of that in the Root Mean Squared Error - RMSE - in order to return to the original units of the target column. In this data set the target column is the value of each car in dollars since this data was taken from US. \n",
    "\n",
    "So the average error of predicted values is $5720 from the actual values. This is a pretty significantly high error and further exploration would be a good idea. It would be helpful to explore if there are any outliers that are informing the high error. It would also be a good idea to attempt to build alternative regression models that might perform more effectively at finding the values of the vehicles."
   ]
  },
  {
   "cell_type": "markdown",
   "id": "000ae6ea",
   "metadata": {},
   "source": []
  }
 ],
 "metadata": {
  "kernelspec": {
   "display_name": "Python (.venv)",
   "language": "python",
   "name": "myenv"
  },
  "language_info": {
   "codemirror_mode": {
    "name": "ipython",
    "version": 3
   },
   "file_extension": ".py",
   "mimetype": "text/x-python",
   "name": "python",
   "nbconvert_exporter": "python",
   "pygments_lexer": "ipython3",
   "version": "3.12.4"
  }
 },
 "nbformat": 4,
 "nbformat_minor": 5
}
